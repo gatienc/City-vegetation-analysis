{
 "cells": [
  {
   "cell_type": "code",
   "execution_count": 22,
   "metadata": {},
   "outputs": [],
   "source": [
    "import os\n",
    "import sentinelhub\n",
    "from src.data import load_sentinelhub_credentials, load_eval_script\n",
    "from dotenv import load_dotenv\n",
    "import geopandas as gpd\n",
    "from tqdm.notebook import tqdm\n",
    "import rasterio\n",
    "from PIL import Image\n",
    "#"
   ]
  },
  {
   "cell_type": "code",
   "execution_count": 23,
   "metadata": {},
   "outputs": [],
   "source": [
    "load_dotenv()\n",
    "config = load_sentinelhub_credentials()\n",
    "evalscript_ndvi = load_eval_script(\"evalscript.js\")"
   ]
  },
  {
   "cell_type": "code",
   "execution_count": null,
   "metadata": {},
   "outputs": [],
   "source": [
    "city_gdf = gpd.read_file(\"../datasets/villes_villages_fleuris.shp\")\n",
    "city_gdf = city_gdf.to_crs(epsg=4326)\n",
    "city_gdf.head()"
   ]
  },
  {
   "cell_type": "code",
   "execution_count": 25,
   "metadata": {},
   "outputs": [],
   "source": [
    "resolution = 10  # in meters\n",
    "# iterate over the cities\n",
    "for i, row in city_gdf.iterrows():\n",
    "    city_name = row[\"commune\"]\n",
    "    aoi_coords_wgs84 = row[\"geometry\"].bounds\n",
    "    aoi_bbox = sentinelhub.BBox(\n",
    "        bbox=aoi_coords_wgs84, crs=sentinelhub.CRS.WGS84)\n",
    "    aoi_size = sentinelhub.bbox_to_dimensions(aoi_bbox, resolution=resolution)\n",
    "\n",
    "    if aoi_size[0] > 2500 or aoi_size[1] > 2500:\n",
    "        raise ValueError(\n",
    "            \"Image dimensions are too large. Please specify a smaller area of interest.\")"
   ]
  },
  {
   "cell_type": "code",
   "execution_count": 26,
   "metadata": {},
   "outputs": [],
   "source": [
    "# byoc collection id for quarterly mosaic\n",
    "byoc_id = \"5460de54-082e-473a-b6ea-d5cbe3c17cca\"\n",
    "S2l3_cloudless_mosaic = sentinelhub.DataCollection.define_byoc(\n",
    "    collection_id=byoc_id\n",
    ")"
   ]
  },
  {
   "cell_type": "code",
   "execution_count": null,
   "metadata": {},
   "outputs": [],
   "source": [
    "resolution = 10  # in meters\n",
    "# iterate over the cities\n",
    "os.makedirs(\"../datasets/ndvi_geotiff\", exist_ok=True)\n",
    "\n",
    "for i, row in tqdm(city_gdf.iterrows(), total=city_gdf.shape[0]):\n",
    "    aoi_coords_wgs84 = row[\"geometry\"].bounds\n",
    "    aoi_bbox = sentinelhub.BBox(\n",
    "        bbox=aoi_coords_wgs84, crs=sentinelhub.CRS.WGS84)\n",
    "\n",
    "    aoi_size = sentinelhub.bbox_to_dimensions(aoi_bbox, resolution=resolution)\n",
    "\n",
    "    request_ndvi = sentinelhub.SentinelHubRequest(\n",
    "        evalscript=evalscript_ndvi,\n",
    "        input_data=[\n",
    "            sentinelhub.SentinelHubRequest.input_data(\n",
    "                data_collection=S2l3_cloudless_mosaic,\n",
    "                time_interval=(\"2022-06-01\", \"2022-10-01\"),\n",
    "            )\n",
    "        ],\n",
    "        responses=[sentinelhub.SentinelHubRequest.output_response(\n",
    "            # default to get the RGB approximation, index to get the NDVI\n",
    "            \"index\", sentinelhub.MimeType.TIFF)],\n",
    "        bbox=aoi_bbox,\n",
    "        size=aoi_size,\n",
    "        config=config,\n",
    "        data_folder=\"./data\",\n",
    "    )\n",
    "    response = request_ndvi.get_data(save_data=True)\n",
    "    ndvi_img = response[\n",
    "        0]\n",
    "    # Construct the file path for the GeoTIFF\n",
    "\n",
    "    ndvi_img_path = f\"../datasets/ndvi_geotiff/{row[\"code_insee\"]}.tiff\"\n",
    "    transform = rasterio.transform.from_bounds(\n",
    "        *aoi_coords_wgs84, *aoi_size\n",
    "    )\n",
    "    crs = rasterio.crs.CRS.from_epsg(4326)\n",
    "\n",
    "    # Save the NDVI image as a GeoTIFF with geospatial metadata\n",
    "    with rasterio.open(\n",
    "        ndvi_img_path,\n",
    "        'w',\n",
    "        driver='GTiff',\n",
    "        height=ndvi_img.shape[0],\n",
    "        width=ndvi_img.shape[1],\n",
    "        count=1,  # Number of bands\n",
    "        dtype=ndvi_img.dtype,\n",
    "        crs=crs,\n",
    "        transform=transform,\n",
    "    ) as dst:\n",
    "        dst.write(ndvi_img, 1)  # Write the NDVI data to the first band"
   ]
  }
 ],
 "metadata": {
  "kernelspec": {
   "display_name": ".venv",
   "language": "python",
   "name": "python3"
  },
  "language_info": {
   "codemirror_mode": {
    "name": "ipython",
    "version": 3
   },
   "file_extension": ".py",
   "mimetype": "text/x-python",
   "name": "python",
   "nbconvert_exporter": "python",
   "pygments_lexer": "ipython3",
   "version": "3.12.5"
  }
 },
 "nbformat": 4,
 "nbformat_minor": 2
}
