{
 "cells": [
  {
   "cell_type": "markdown",
   "metadata": {},
   "source": [
    "Using the ndvi data collection notebook, we can get an image for the \"Hauts de France\" region and then using the \"ville fleuri\" dataset, we can cut the image into each city and then calculate the NDVI for each city.\n"
   ]
  },
  {
   "cell_type": "code",
   "execution_count": 51,
   "metadata": {},
   "outputs": [],
   "source": [
    "import geopandas as gpd\n",
    "from matplotlib import pyplot as plt\n",
    "from shapely.geometry import Point, Polygon"
   ]
  },
  {
   "cell_type": "code",
   "execution_count": null,
   "metadata": {},
   "outputs": [],
   "source": [
    "aoi_coords_wgs84 = [0.527344, 49.174522, 4.394531, 51.144894]\n",
    "\n",
    "gdf = gpd.GeoDataFrame(geometry=[Point(aoi_coords_wgs84[0], aoi_coords_wgs84[1]), Point(\n",
    "    aoi_coords_wgs84[2], aoi_coords_wgs84[3])], crs=\"EPSG:4326\")\n",
    "\n",
    "plate_caree = gdf.to_crs(\"EPSG:32633\")  # UTM zone 33N (Plate Carré equivalent)\n",
    "aoi_coords_32633 = [plate_caree.geometry[0].x, plate_caree.geometry[0].y,\n",
    "                    plate_caree.geometry[1].x, plate_caree.geometry[1].y]\n",
    "aoi_coords_32633"
   ]
  },
  {
   "cell_type": "code",
   "execution_count": null,
   "metadata": {},
   "outputs": [],
   "source": [
    "\n",
    "city_gdf = gpd.read_file(\"../src/data/villes_villages_fleuris.shp\")\n",
    "# transform to WGS84\n",
    "city_gdf = city_gdf.to_crs(epsg=32633)\n",
    "city_gdf.head()"
   ]
  },
  {
   "cell_type": "code",
   "execution_count": null,
   "metadata": {},
   "outputs": [],
   "source": [
    "ndvi_image = \"../src/data/ndvi_summer_2022.png\"\n",
    "plt_ndvi_image = plt.imread(ndvi_image)\n",
    "\n",
    "crs_height = aoi_coords_32633[3] - aoi_coords_32633[1]\n",
    "crs_width = aoi_coords_32633[2] - aoi_coords_32633[0]\n",
    "\n",
    "height, width, _ = plt_ndvi_image.shape\n",
    "\n",
    "print(height, width)\n",
    "plt.imshow(plt_ndvi_image)\n",
    "\n",
    "\n",
    "for _, city in city_gdf.iterrows():\n",
    "    mean_x = city.geometry.centroid.x\n",
    "    mean_y = city.geometry.centroid.y\n",
    "    x = (mean_x - aoi_coords_32633[0]) / crs_width * width\n",
    "    y = (aoi_coords_32633[3] - mean_y) / crs_height * height\n",
    "\n",
    "    # cut the image to the city geometry\n",
    "    city_polygon = city.geometry\n",
    "    xmin, ymin, xmax, ymax = city_polygon.bounds\n",
    "\n",
    "    # convert the bounds to image coordinates\n",
    "    xmin_img = int((xmin - aoi_coords_32633[0]) / crs_width * width)\n",
    "    ymin_img = int((aoi_coords_32633[3] - ymax) / crs_height * height)\n",
    "    xmax_img = int((xmax - aoi_coords_32633[0]) / crs_width * width)\n",
    "    ymax_img = int((aoi_coords_32633[3] - ymin) / crs_height * height)\n",
    "\n",
    "    # Ensure the coordinates are within the image bounds\n",
    "    xmin_img = max(0, xmin_img)\n",
    "    ymin_img = max(0, ymin_img)\n",
    "    xmax_img = min(width, xmax_img)\n",
    "    ymax_img = min(height, ymax_img)\n",
    "    \n",
    "    print(\"x\", xmin_img, xmax_img, \"y\", ymin_img, ymax_img))\n",
    "\n",
    "    if xmin_img < xmax_img and ymin_img < ymax_img:\n",
    "        print(xmin_img, ymin_img, xmax_img, ymax_img)\n",
    "        cropped_image = plt_ndvi_image[ymin_img:ymax_img, xmin_img:xmax_img, :]\n",
    "        plt.imshow(cropped_image)\n",
    "        plt.show()\n",
    "    else:\n",
    "        print(\"Invalid crop dimensions:\",\n",
    "              \"x\", xmin_img, xmax_img, \"y\", ymin_img, ymax_img)"
   ]
  }
 ],
 "metadata": {
  "kernelspec": {
   "display_name": ".venv",
   "language": "python",
   "name": "python3"
  },
  "language_info": {
   "codemirror_mode": {
    "name": "ipython",
    "version": 3
   },
   "file_extension": ".py",
   "mimetype": "text/x-python",
   "name": "python",
   "nbconvert_exporter": "python",
   "pygments_lexer": "ipython3",
   "version": "3.12.5"
  }
 },
 "nbformat": 4,
 "nbformat_minor": 2
}
