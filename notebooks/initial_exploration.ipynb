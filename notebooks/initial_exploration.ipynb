{
 "cells": [
  {
   "cell_type": "code",
   "execution_count": 61,
   "metadata": {},
   "outputs": [],
   "source": [
    "import geopandas as gpd\n",
    "import folium\n",
    "import matplotlib.pyplot as plt\n",
    "import folium.plugins"
   ]
  },
  {
   "cell_type": "code",
   "execution_count": 62,
   "metadata": {},
   "outputs": [],
   "source": [
    "# Load the data\n",
    "fp = \"../src/data/villes_villages_fleuris.shp\"\n",
    "border_geojson = \"../src/data/region-hauts-de-france.geojson\"\n",
    "data = gpd.read_file(fp)"
   ]
  },
  {
   "cell_type": "code",
   "execution_count": null,
   "metadata": {},
   "outputs": [],
   "source": [
    "# cut the data in one geodataframe and one dataframe\n",
    "gpd_data = data[['geometry', \"code_insee\"]]\n",
    "df_data = data.drop(columns='geometry')\n",
    "df_data"
   ]
  },
  {
   "cell_type": "code",
   "execution_count": null,
   "metadata": {},
   "outputs": [],
   "source": [
    "gpd_data.head()"
   ]
  },
  {
   "cell_type": "code",
   "execution_count": null,
   "metadata": {},
   "outputs": [],
   "source": [
    "# set the most simple tile\n",
    "map_object = folium.Map(\n",
    "    location=[50, 3], zoom_start=8, tiles='Cartodb Positron')\n",
    "# add a layer for \"hautes de france\" region\n",
    "\n",
    "folium.GeoJson(border_geojson, name=\"Hauts-de-France\").add_to(map_object)\n",
    "\n",
    "folium.Choropleth(\n",
    "    geo_data=gpd_data,\n",
    "    data=df_data,\n",
    "    columns=['code_insee', 'fleurs'],\n",
    "    key_on=\"feature.properties.code_insee\",\n",
    "    name=\"commune\",\n",
    "    fill_color=\"YlGn\",\n",
    "    bins=[1, 2, 3, 4],\n",
    "    legend_name='Number of flowers',\n",
    "    highlight=True,\n",
    ").add_to(map_object)\n",
    "\n",
    "map_object.add_child(folium.LayerControl())\n",
    "\n",
    "\n",
    "map_object"
   ]
  }
 ],
 "metadata": {
  "kernelspec": {
   "display_name": "Python 3",
   "language": "python",
   "name": "python3"
  },
  "language_info": {
   "codemirror_mode": {
    "name": "ipython",
    "version": 3
   },
   "file_extension": ".py",
   "mimetype": "text/x-python",
   "name": "python",
   "nbconvert_exporter": "python",
   "pygments_lexer": "ipython3",
   "version": "3.12.5"
  }
 },
 "nbformat": 4,
 "nbformat_minor": 2
}
