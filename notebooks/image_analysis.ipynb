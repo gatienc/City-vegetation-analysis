{
 "cells": [
  {
   "cell_type": "code",
   "execution_count": 11,
   "metadata": {},
   "outputs": [],
   "source": [
    "import os\n",
    "import random\n",
    "from PIL import Image\n",
    "from matplotlib import pyplot as plt\n",
    "import numpy as np\n",
    "# Specify the path to the directory containing the images\n",
    "image_dir = \"../datasets/ndvi_images\"\n",
    "\n",
    "# Get a list of all the image files in the directory\n",
    "image_files = [os.path.join(image_dir, file)\n",
    "               for file in os.listdir(image_dir) if file.endswith(\".tiff\")]\n",
    "\n",
    "# Select a random image file from the list\n",
    "random_image = random.choice(image_files)"
   ]
  },
  {
   "cell_type": "code",
   "execution_count": null,
   "metadata": {},
   "outputs": [],
   "source": [
    "plt.imshow(np.array(Image.open(random_image)), cmap='gray')\n",
    "plt.axis('off')\n",
    "plt.colorbar()\n",
    "plt.show()"
   ]
  },
  {
   "cell_type": "code",
   "execution_count": null,
   "metadata": {},
   "outputs": [],
   "source": [
    "# show the 3 separate channels of the image in 3 separate plots\n",
    "image = np.array(Image.open(random_image))\n",
    "fig, ax = plt.subplots(1, 4, figsize=(15, 5))\n",
    "for i in range(4):\n",
    "    ax[i].imshow(image[:, :, i], cmap='gray')\n",
    "    ax[i].axis('off')\n",
    "    ax[i].set_title(f'Channel {i}')"
   ]
  }
 ],
 "metadata": {
  "kernelspec": {
   "display_name": ".venv",
   "language": "python",
   "name": "python3"
  },
  "language_info": {
   "codemirror_mode": {
    "name": "ipython",
    "version": 3
   },
   "file_extension": ".py",
   "mimetype": "text/x-python",
   "name": "python",
   "nbconvert_exporter": "python",
   "pygments_lexer": "ipython3",
   "version": "3.12.5"
  }
 },
 "nbformat": 4,
 "nbformat_minor": 2
}
