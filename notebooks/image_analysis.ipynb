{
 "cells": [
  {
   "cell_type": "code",
   "execution_count": null,
   "metadata": {},
   "outputs": [],
   "source": [
    "import os\n",
    "import random\n",
    "from PIL import Image\n",
    "from matplotlib import pyplot as plt\n",
    "import numpy as np\n",
    "import geopandas as gpd\n",
    "import rasterio\n",
    "import treescope\n",
    "import rasterio\n",
    "import rasterio.features\n",
    "import rasterio.mask\n",
    "import rasterio.warp\n",
    "\n",
    "treescope.basic_interactive_setup(autovisualize_arrays=True)\n",
    "\n",
    "# Specify the path to the directory containing the images\n",
    "image_dir = \"../datasets/ndvi_geotiff\"\n",
    "\n",
    "city_gdf = gpd.read_file(\n",
    "    \"../datasets/villes_villages_fleuris.shp\").to_crs(epsg=4326)\n",
    "city_gdf.drop(columns=[\"gml_id\"], inplace=True)"
   ]
  },
  {
   "cell_type": "code",
   "execution_count": 275,
   "metadata": {},
   "outputs": [],
   "source": [
    "\n",
    "ndvi_gdf = city_gdf.copy()\n",
    "ndvi_gdf['mean_ndvi'] = np.nan\n",
    "\n",
    "for index, row in city_gdf.iterrows():\n",
    "    code_insee = row[\"code_insee\"]\n",
    "    polygon = row['geometry']\n",
    "    city_name = row[\"commune\"].encode('latin-1').decode('utf-8')\n",
    "\n",
    "    image_path = f\"../datasets/ndvi_geotiff/{code_insee}.tiff\"\n",
    "\n",
    "    with rasterio.open(image_path) as dataset:\n",
    "\n",
    "        dataset_array = dataset.read(1)\n",
    "        mask = rasterio.features.geometry_mask(\n",
    "            [polygon], out_shape=dataset_array.shape, transform=dataset.transform, invert=False)\n",
    "        masked_array = np.ma.masked_array(dataset_array, mask)\n",
    "        # show_city_nvdi(masked_array, city_name)\n",
    "\n",
    "    # nanmean is used to ignore the nan values\n",
    "    mean_value = np.nanmean(masked_array)\n",
    "    ndvi_gdf.loc[index, 'mean_ndvi'] = mean_value"
   ]
  },
  {
   "cell_type": "code",
   "execution_count": null,
   "metadata": {},
   "outputs": [],
   "source": [
    "ndvi_gdf.head()"
   ]
  },
  {
   "cell_type": "code",
   "execution_count": null,
   "metadata": {},
   "outputs": [],
   "source": []
  },
  {
   "cell_type": "code",
   "execution_count": null,
   "metadata": {},
   "outputs": [],
   "source": [
    "import matplotlib.pyplot as plt\n",
    "# get row where fleurs = 1\n",
    "plt.boxplot([ndvi_gdf[ndvi_gdf[\"fleurs\"] == i]\n",
    "            [\"mean_ndvi\"].values for i in range(1, 5)])\n",
    "plt.xlabel(\"Number of Flowers\")\n",
    "plt.ylabel(\"Mean NDVI\")\n",
    "plt.title(\"Boxplot of Mean NDVI\")\n",
    "plt.show()"
   ]
  },
  {
   "cell_type": "code",
   "execution_count": null,
   "metadata": {
    "vscode": {
     "languageId": "javascript"
    }
   },
   "outputs": [],
   "source": [
    "correlation = ndvi_gdf['fleurs'].corr(ndvi_gdf['mean_ndvi'])\n",
    "correlation"
   ]
  },
  {
   "cell_type": "markdown",
   "metadata": {},
   "source": [
    "The main issue currently is that the city region is not defined only the urban area, but also the neighbouring field that are part of the city. This is a high bias on the modeling of the city vegetation.\n",
    "\n",
    "With the current data and the current modeling, we obtained a value of -0.17 correlation between the ndvi and the city's \"fleurs\". Which means no correlation between these two.\n"
   ]
  }
 ],
 "metadata": {
  "kernelspec": {
   "display_name": ".venv",
   "language": "python",
   "name": "python3"
  },
  "language_info": {
   "codemirror_mode": {
    "name": "ipython",
    "version": 3
   },
   "file_extension": ".py",
   "mimetype": "text/x-python",
   "name": "python",
   "nbconvert_exporter": "python",
   "pygments_lexer": "ipython3",
   "version": "3.12.5"
  }
 },
 "nbformat": 4,
 "nbformat_minor": 2
}
